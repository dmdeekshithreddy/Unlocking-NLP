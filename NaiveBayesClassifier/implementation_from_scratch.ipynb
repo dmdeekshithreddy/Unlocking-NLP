{
 "cells": [
  {
   "cell_type": "code",
   "execution_count": 1,
   "metadata": {},
   "outputs": [],
   "source": [
    "import pandas as pd"
   ]
  },
  {
   "cell_type": "code",
   "execution_count": 12,
   "metadata": {},
   "outputs": [
    {
     "name": "stdout",
     "output_type": "stream",
     "text": [
      "['implementation_from_scratch.ipynb']\n",
      "   Unnamed: 0 label                                               text  \\\n",
      "0         605   ham  Subject: enron methanol ; meter # : 988291\\r\\n...   \n",
      "1        2349   ham  Subject: hpl nom for january 9 , 2001\\r\\n( see...   \n",
      "\n",
      "   label_num  \n",
      "0          0  \n",
      "1          0  \n",
      "Unnamed: 0    5171\n",
      "label         5171\n",
      "text          5171\n",
      "label_num     5171\n",
      "dtype: int64\n"
     ]
    }
   ],
   "source": [
    "import os\n",
    "print(os.listdir(os.getcwd()))\n",
    "df_spam_ham = pd.read_csv(\"../Datasets/spam_ham_dataset.csv\")\n",
    "print(df_spam_ham.head(2))"
   ]
  },
  {
   "cell_type": "code",
   "execution_count": 24,
   "metadata": {},
   "outputs": [
    {
     "name": "stdout",
     "output_type": "stream",
     "text": [
      "total records: 5171\n",
      "spam record count: 1499\n",
      "ham record count: 3672\n"
     ]
    }
   ],
   "source": [
    "label = df_spam_ham[\"label_num\"]\n",
    "# print(type(label))\n",
    "total_record_count = len(df_spam_ham)\n",
    "print(f\"total records: {total_record_count}\")\n",
    "\n",
    "distinct_label_counts = label.value_counts()\n",
    "spam_record_count = distinct_label_counts.loc[1]\n",
    "print(f\"spam record count: {spam_record_count}\")\n",
    "ham_record_count = distinct_label_counts.loc[0]\n",
    "print(f\"ham record count: {ham_record_count}\")\n"
   ]
  },
  {
   "cell_type": "code",
   "execution_count": 21,
   "metadata": {},
   "outputs": [
    {
     "data": {
      "text/plain": [
       "{0: 3672, 1: 1499}"
      ]
     },
     "execution_count": 21,
     "metadata": {},
     "output_type": "execute_result"
    }
   ],
   "source": []
  },
  {
   "cell_type": "code",
   "execution_count": null,
   "metadata": {},
   "outputs": [],
   "source": []
  },
  {
   "cell_type": "code",
   "execution_count": null,
   "metadata": {},
   "outputs": [],
   "source": []
  }
 ],
 "metadata": {
  "kernelspec": {
   "display_name": "ml_basics",
   "language": "python",
   "name": "python3"
  },
  "language_info": {
   "codemirror_mode": {
    "name": "ipython",
    "version": 3
   },
   "file_extension": ".py",
   "mimetype": "text/x-python",
   "name": "python",
   "nbconvert_exporter": "python",
   "pygments_lexer": "ipython3",
   "version": "3.10.13"
  }
 },
 "nbformat": 4,
 "nbformat_minor": 2
}
